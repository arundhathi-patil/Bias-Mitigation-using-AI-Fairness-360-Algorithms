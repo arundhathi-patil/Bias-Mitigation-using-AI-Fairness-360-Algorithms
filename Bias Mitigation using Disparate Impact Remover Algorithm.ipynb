{
 "cells": [
  {
   "cell_type": "code",
   "execution_count": 1,
   "metadata": {},
   "outputs": [
    {
     "name": "stdout",
     "output_type": "stream",
     "text": [
      "3.5.6 |Anaconda, Inc.| (default, Aug 26 2018, 16:05:27) [MSC v.1900 64 bit (AMD64)] win32 C:\\Users\\arupatil\\Anaconda3\\envs\\aif360\\python.exe\n"
     ]
    }
   ],
   "source": [
    "import sys\n",
    "print(sys.version, sys.platform, sys.executable)"
   ]
  },
  {
   "cell_type": "code",
   "execution_count": 63,
   "metadata": {},
   "outputs": [],
   "source": [
    "from __future__ import absolute_import\n",
    "from __future__ import division\n",
    "from __future__ import print_function\n",
    "from __future__ import unicode_literals\n",
    "\n",
    "from matplotlib import pyplot as plt\n",
    "\n",
    "import sys\n",
    "sys.path.append(\"../\")\n",
    "import warnings\n",
    "\n",
    "import numpy as np\n",
    "import pandas as pd\n",
    "from tqdm import tqdm\n",
    "from IPython.display import Markdown, display\n",
    "\n",
    "from sklearn.model_selection import train_test_split\n",
    "from sklearn.linear_model import LogisticRegression\n",
    "from sklearn.svm import SVC as SVM\n",
    "from sklearn.preprocessing import MinMaxScaler\n",
    "from sklearn.metrics import accuracy_score\n",
    "from aif360.algorithms.preprocessing import DisparateImpactRemover\n",
    "# The dataset used is from the AI360 datasets\n",
    "from aif360.datasets import CompasDataset\n",
    "from aif360.metrics import BinaryLabelDatasetMetric\n"
   ]
  },
  {
   "cell_type": "markdown",
   "metadata": {},
   "source": [
    "### Compas Dataset"
   ]
  },
  {
   "cell_type": "markdown",
   "metadata": {},
   "source": [
    "The CompasDataset expects you to specify the label (target) variable, by default it is 'two_year_recid'\n",
    "\n",
    "```aif360.datasets.CompasDataset(label_name='two_year_recid', favorable_classes=[0], protected_attribute_names=['sex', 'race'], privileged_classes=[['Female'], ['Caucasian']], instance_weights_name=None, categorical_features=['age_cat', 'c_charge_degree', 'c_charge_desc'], features_to_keep=['sex', 'age', 'age_cat', 'race', 'juv_fel_count', 'juv_misd_count', 'juv_other_count', 'priors_count', 'c_charge_degree', 'c_charge_desc', 'two_year_recid'], features_to_drop=[], na_values=[], custom_preprocessing=<function default_preprocessing>, metadata={'label_maps': [{0.0: 'No recid.', 1.0: 'Did recid.'}], 'protected_attribute_maps': [{0.0: 'Male', 1.0: 'Female'}, {0.0: 'Not Caucasian', 1.0: 'Caucasian'}]})```"
   ]
  },
  {
   "cell_type": "code",
   "execution_count": 65,
   "metadata": {},
   "outputs": [],
   "source": [
    "protected = 'race'\n",
    "cp = CompasDataset(\n",
    "    label_name='two_year_recid',\n",
    "    protected_attribute_names=[protected],\n",
    "    privileged_classes = [['Caucasian']], \n",
    "    categorical_features=['sex','age_cat'],\n",
    "    features_to_keep=['sex', 'age', 'age_cat', 'race','juv_fel_count', 'juv_misd_count', 'juv_other_count', 'priors_count', #'c_charge_degree', \n",
    "                      'two_year_recid'])"
   ]
  },
  {
   "cell_type": "code",
   "execution_count": 66,
   "metadata": {},
   "outputs": [
    {
     "data": {
      "text/plain": [
       "               instance weights features                                    \\\n",
       "                                         protected attribute                 \n",
       "                                     age                race juv_fel_count   \n",
       "instance names                                                               \n",
       "1                           1.0     69.0                 0.0           0.0   \n",
       "3                           1.0     34.0                 0.0           0.0   \n",
       "4                           1.0     24.0                 0.0           0.0   \n",
       "7                           1.0     44.0                 0.0           0.0   \n",
       "8                           1.0     41.0                 1.0           0.0   \n",
       "9                           1.0     43.0                 0.0           0.0   \n",
       "10                          1.0     39.0                 1.0           0.0   \n",
       "14                          1.0     27.0                 1.0           0.0   \n",
       "15                          1.0     23.0                 0.0           0.0   \n",
       "16                          1.0     37.0                 1.0           0.0   \n",
       "18                          1.0     41.0                 0.0           0.0   \n",
       "19                          1.0     47.0                 1.0           0.0   \n",
       "20                          1.0     31.0                 0.0           0.0   \n",
       "21                          1.0     37.0                 0.0           0.0   \n",
       "22                          1.0     25.0                 0.0           0.0   \n",
       "23                          1.0     31.0                 1.0           0.0   \n",
       "24                          1.0     31.0                 1.0           0.0   \n",
       "25                          1.0     64.0                 0.0           0.0   \n",
       "26                          1.0     21.0                 0.0           0.0   \n",
       "27                          1.0     27.0                 1.0           0.0   \n",
       "28                          1.0     21.0                 1.0           0.0   \n",
       "30                          1.0     24.0                 0.0           0.0   \n",
       "32                          1.0     43.0                 1.0           0.0   \n",
       "33                          1.0     32.0                 0.0           0.0   \n",
       "37                          1.0     27.0                 0.0           0.0   \n",
       "39                          1.0     26.0                 0.0           0.0   \n",
       "40                          1.0     33.0                 0.0           0.0   \n",
       "41                          1.0     30.0                 1.0           0.0   \n",
       "42                          1.0     32.0                 0.0           0.0   \n",
       "45                          1.0     55.0                 1.0           0.0   \n",
       "...                         ...      ...                 ...           ...   \n",
       "10958                       1.0     49.0                 1.0           0.0   \n",
       "10960                       1.0     24.0                 0.0           0.0   \n",
       "10962                       1.0     36.0                 1.0           0.0   \n",
       "10963                       1.0     42.0                 1.0           0.0   \n",
       "10964                       1.0     36.0                 0.0           0.0   \n",
       "10965                       1.0     57.0                 1.0           0.0   \n",
       "10966                       1.0     36.0                 1.0           0.0   \n",
       "10967                       1.0     34.0                 0.0           0.0   \n",
       "10969                       1.0     24.0                 0.0           0.0   \n",
       "10972                       1.0     32.0                 1.0           0.0   \n",
       "10975                       1.0     25.0                 0.0           0.0   \n",
       "10976                       1.0     30.0                 1.0           0.0   \n",
       "10977                       1.0     35.0                 0.0           0.0   \n",
       "10979                       1.0     43.0                 0.0           0.0   \n",
       "10980                       1.0     28.0                 0.0           0.0   \n",
       "10981                       1.0     32.0                 0.0           0.0   \n",
       "10982                       1.0     23.0                 1.0           0.0   \n",
       "10984                       1.0     20.0                 0.0           0.0   \n",
       "10985                       1.0     30.0                 0.0           0.0   \n",
       "10987                       1.0     26.0                 0.0           0.0   \n",
       "10988                       1.0     44.0                 0.0           0.0   \n",
       "10989                       1.0     30.0                 0.0           0.0   \n",
       "10992                       1.0     21.0                 1.0           0.0   \n",
       "10994                       1.0     30.0                 0.0           0.0   \n",
       "10995                       1.0     20.0                 0.0           0.0   \n",
       "10996                       1.0     23.0                 0.0           0.0   \n",
       "10997                       1.0     23.0                 0.0           0.0   \n",
       "10999                       1.0     57.0                 0.0           0.0   \n",
       "11000                       1.0     33.0                 0.0           0.0   \n",
       "11001                       1.0     23.0                 0.0           0.0   \n",
       "\n",
       "                                                                       \\\n",
       "                                                                        \n",
       "               juv_misd_count juv_other_count priors_count sex=Female   \n",
       "instance names                                                          \n",
       "1                         0.0             0.0          0.0        0.0   \n",
       "3                         0.0             0.0          0.0        0.0   \n",
       "4                         0.0             1.0          4.0        0.0   \n",
       "7                         0.0             0.0          0.0        0.0   \n",
       "8                         0.0             0.0         14.0        0.0   \n",
       "9                         0.0             0.0          3.0        0.0   \n",
       "10                        0.0             0.0          0.0        1.0   \n",
       "14                        0.0             0.0          0.0        0.0   \n",
       "15                        0.0             0.0          3.0        0.0   \n",
       "16                        0.0             0.0          0.0        1.0   \n",
       "18                        0.0             0.0          0.0        0.0   \n",
       "19                        0.0             0.0          1.0        1.0   \n",
       "20                        0.0             0.0          7.0        0.0   \n",
       "21                        0.0             0.0          0.0        0.0   \n",
       "22                        0.0             0.0          3.0        0.0   \n",
       "23                        0.0             0.0          6.0        0.0   \n",
       "24                        0.0             0.0          5.0        0.0   \n",
       "25                        0.0             0.0         13.0        0.0   \n",
       "26                        0.0             0.0          1.0        0.0   \n",
       "27                        0.0             0.0          0.0        0.0   \n",
       "28                        0.0             0.0          0.0        1.0   \n",
       "30                        0.0             0.0          1.0        0.0   \n",
       "32                        0.0             0.0          1.0        0.0   \n",
       "33                        0.0             0.0          0.0        0.0   \n",
       "37                        0.0             0.0          8.0        0.0   \n",
       "39                        0.0             1.0          5.0        0.0   \n",
       "40                        0.0             0.0          0.0        0.0   \n",
       "41                        0.0             0.0          9.0        0.0   \n",
       "42                        0.0             0.0          4.0        0.0   \n",
       "45                        0.0             0.0          0.0        0.0   \n",
       "...                       ...             ...          ...        ...   \n",
       "10958                     0.0             0.0          2.0        1.0   \n",
       "10960                     0.0             0.0          0.0        1.0   \n",
       "10962                     0.0             0.0          4.0        1.0   \n",
       "10963                     0.0             0.0          5.0        0.0   \n",
       "10964                     0.0             0.0          9.0        0.0   \n",
       "10965                     0.0             0.0         14.0        0.0   \n",
       "10966                     0.0             0.0          0.0        0.0   \n",
       "10967                     0.0             0.0          3.0        0.0   \n",
       "10969                     0.0             0.0          2.0        0.0   \n",
       "10972                     0.0             0.0          0.0        0.0   \n",
       "10975                     0.0             0.0          1.0        0.0   \n",
       "10976                     0.0             0.0          2.0        1.0   \n",
       "10977                     0.0             0.0          8.0        0.0   \n",
       "10979                     0.0             0.0          0.0        0.0   \n",
       "10980                     0.0             0.0          1.0        0.0   \n",
       "10981                     0.0             0.0          4.0        0.0   \n",
       "10982                     0.0             0.0          0.0        0.0   \n",
       "10984                     0.0             0.0          0.0        1.0   \n",
       "10985                     1.0             0.0         19.0        0.0   \n",
       "10987                     0.0             0.0          0.0        0.0   \n",
       "10988                     0.0             0.0          0.0        0.0   \n",
       "10989                     0.0             0.0          2.0        0.0   \n",
       "10992                     0.0             0.0          0.0        0.0   \n",
       "10994                     0.0             0.0          0.0        0.0   \n",
       "10995                     0.0             0.0          0.0        0.0   \n",
       "10996                     0.0             0.0          0.0        0.0   \n",
       "10997                     0.0             0.0          0.0        0.0   \n",
       "10999                     0.0             0.0          0.0        0.0   \n",
       "11000                     0.0             0.0          3.0        1.0   \n",
       "11001                     0.0             0.0          2.0        1.0   \n",
       "\n",
       "                                                                 \\\n",
       "                                                                  \n",
       "               sex=Male age_cat=25 - 45 age_cat=Greater than 45   \n",
       "instance names                                                    \n",
       "1                   1.0             0.0                     1.0   \n",
       "3                   1.0             1.0                     0.0   \n",
       "4                   1.0             0.0                     0.0   \n",
       "7                   1.0             1.0                     0.0   \n",
       "8                   1.0             1.0                     0.0   \n",
       "9                   1.0             1.0                     0.0   \n",
       "10                  0.0             1.0                     0.0   \n",
       "14                  1.0             1.0                     0.0   \n",
       "15                  1.0             0.0                     0.0   \n",
       "16                  0.0             1.0                     0.0   \n",
       "18                  1.0             1.0                     0.0   \n",
       "19                  0.0             0.0                     1.0   \n",
       "20                  1.0             1.0                     0.0   \n",
       "21                  1.0             1.0                     0.0   \n",
       "22                  1.0             1.0                     0.0   \n",
       "23                  1.0             1.0                     0.0   \n",
       "24                  1.0             1.0                     0.0   \n",
       "25                  1.0             0.0                     1.0   \n",
       "26                  1.0             0.0                     0.0   \n",
       "27                  1.0             1.0                     0.0   \n",
       "28                  0.0             0.0                     0.0   \n",
       "30                  1.0             0.0                     0.0   \n",
       "32                  1.0             1.0                     0.0   \n",
       "33                  1.0             1.0                     0.0   \n",
       "37                  1.0             1.0                     0.0   \n",
       "39                  1.0             1.0                     0.0   \n",
       "40                  1.0             1.0                     0.0   \n",
       "41                  1.0             1.0                     0.0   \n",
       "42                  1.0             1.0                     0.0   \n",
       "45                  1.0             0.0                     1.0   \n",
       "...                 ...             ...                     ...   \n",
       "10958               0.0             0.0                     1.0   \n",
       "10960               0.0             0.0                     0.0   \n",
       "10962               0.0             1.0                     0.0   \n",
       "10963               1.0             1.0                     0.0   \n",
       "10964               1.0             1.0                     0.0   \n",
       "10965               1.0             0.0                     1.0   \n",
       "10966               1.0             1.0                     0.0   \n",
       "10967               1.0             1.0                     0.0   \n",
       "10969               1.0             0.0                     0.0   \n",
       "10972               1.0             1.0                     0.0   \n",
       "10975               1.0             1.0                     0.0   \n",
       "10976               0.0             1.0                     0.0   \n",
       "10977               1.0             1.0                     0.0   \n",
       "10979               1.0             1.0                     0.0   \n",
       "10980               1.0             1.0                     0.0   \n",
       "10981               1.0             1.0                     0.0   \n",
       "10982               1.0             0.0                     0.0   \n",
       "10984               0.0             0.0                     0.0   \n",
       "10985               1.0             1.0                     0.0   \n",
       "10987               1.0             1.0                     0.0   \n",
       "10988               1.0             1.0                     0.0   \n",
       "10989               1.0             1.0                     0.0   \n",
       "10992               1.0             0.0                     0.0   \n",
       "10994               1.0             1.0                     0.0   \n",
       "10995               1.0             0.0                     0.0   \n",
       "10996               1.0             0.0                     0.0   \n",
       "10997               1.0             0.0                     0.0   \n",
       "10999               1.0             0.0                     1.0   \n",
       "11000               0.0             1.0                     0.0   \n",
       "11001               0.0             0.0                     0.0   \n",
       "\n",
       "                                    labels  \n",
       "                                            \n",
       "               age_cat=Less than 25         \n",
       "instance names                              \n",
       "1                               0.0    0.0  \n",
       "3                               0.0    1.0  \n",
       "4                               1.0    1.0  \n",
       "7                               0.0    0.0  \n",
       "8                               0.0    1.0  \n",
       "9                               0.0    0.0  \n",
       "10                              0.0    0.0  \n",
       "14                              0.0    0.0  \n",
       "15                              1.0    1.0  \n",
       "16                              0.0    0.0  \n",
       "18                              0.0    0.0  \n",
       "19                              0.0    1.0  \n",
       "20                              0.0    1.0  \n",
       "21                              0.0    0.0  \n",
       "22                              0.0    0.0  \n",
       "23                              0.0    1.0  \n",
       "24                              0.0    1.0  \n",
       "25                              0.0    1.0  \n",
       "26                              1.0    1.0  \n",
       "27                              0.0    1.0  \n",
       "28                              1.0    0.0  \n",
       "30                              1.0    1.0  \n",
       "32                              0.0    0.0  \n",
       "33                              0.0    0.0  \n",
       "37                              0.0    1.0  \n",
       "39                              0.0    1.0  \n",
       "40                              0.0    1.0  \n",
       "41                              0.0    1.0  \n",
       "42                              0.0    1.0  \n",
       "45                              0.0    0.0  \n",
       "...                             ...    ...  \n",
       "10958                           0.0    0.0  \n",
       "10960                           1.0    1.0  \n",
       "10962                           0.0    1.0  \n",
       "10963                           0.0    0.0  \n",
       "10964                           0.0    0.0  \n",
       "10965                           0.0    1.0  \n",
       "10966                           0.0    0.0  \n",
       "10967                           0.0    1.0  \n",
       "10969                           1.0    1.0  \n",
       "10972                           0.0    0.0  \n",
       "10975                           0.0    0.0  \n",
       "10976                           0.0    1.0  \n",
       "10977                           0.0    1.0  \n",
       "10979                           0.0    0.0  \n",
       "10980                           0.0    0.0  \n",
       "10981                           0.0    0.0  \n",
       "10982                           1.0    0.0  \n",
       "10984                           1.0    1.0  \n",
       "10985                           0.0    1.0  \n",
       "10987                           0.0    0.0  \n",
       "10988                           0.0    0.0  \n",
       "10989                           0.0    0.0  \n",
       "10992                           1.0    1.0  \n",
       "10994                           0.0    1.0  \n",
       "10995                           1.0    0.0  \n",
       "10996                           1.0    0.0  \n",
       "10997                           1.0    0.0  \n",
       "10999                           0.0    0.0  \n",
       "11000                           0.0    0.0  \n",
       "11001                           1.0    1.0  \n",
       "\n",
       "[6172 rows x 13 columns]"
      ]
     },
     "execution_count": 66,
     "metadata": {},
     "output_type": "execute_result"
    }
   ],
   "source": [
    "cp #display"
   ]
  },
  {
   "cell_type": "code",
   "execution_count": 67,
   "metadata": {},
   "outputs": [
    {
     "data": {
      "text/plain": [
       "aif360.datasets.compas_dataset.CompasDataset"
      ]
     },
     "execution_count": 67,
     "metadata": {},
     "output_type": "execute_result"
    }
   ],
   "source": [
    "type(cp)"
   ]
  },
  {
   "cell_type": "markdown",
   "metadata": {},
   "source": [
    "### Train and Test split"
   ]
  },
  {
   "cell_type": "markdown",
   "metadata": {},
   "source": [
    "### ------------Model 1: Logistic Regression before employing Disparate Impact Remover-------------"
   ]
  },
  {
   "cell_type": "code",
   "execution_count": 68,
   "metadata": {},
   "outputs": [],
   "source": [
    "#Converting train and test to Pandas\n",
    "\n",
    "data_train=train.convert_to_dataframe()\n",
    "df_train=pd.DataFrame(data_train[0])\n",
    "\n",
    "data_test=test.convert_to_dataframe()\n",
    "df_test=pd.DataFrame(data_test[0])"
   ]
  },
  {
   "cell_type": "code",
   "execution_count": 69,
   "metadata": {},
   "outputs": [
    {
     "data": {
      "text/plain": [
       "(4320, 14)"
      ]
     },
     "metadata": {},
     "output_type": "display_data"
    },
    {
     "data": {
      "text/plain": [
       "(1852, 14)"
      ]
     },
     "metadata": {},
     "output_type": "display_data"
    }
   ],
   "source": [
    "#Shape of Train and Test \n",
    "\n",
    "display(df_train.shape)\n",
    "display(df_test.shape)"
   ]
  },
  {
   "cell_type": "code",
   "execution_count": 70,
   "metadata": {},
   "outputs": [],
   "source": [
    "#converting from float to int\n",
    "#Train\n",
    "\n",
    "df_train['age']=df_train['age'].astype('int64')\n",
    "df_train['race']=df_train[ 'race'].astype('int64')\n",
    "df_train['juv_fel_count']=df_train['juv_fel_count'].astype('int64')\n",
    "df_train['decile_score']=df_train['decile_score'].astype('int64')\n",
    "df_train['decile_score_binary']=df_train['decile_score_binary'].astype('int64')\n",
    "df_train['juv_misd_count']=df_train['juv_misd_count'].astype('int64')\n",
    "df_train['juv_other_count']=df_train['juv_other_count'].astype('int64')\n",
    "df_train['priors_count']=df_train['priors_count'].astype('int64')\n",
    "df_train['sex=Female']=df_train['sex=Female'].astype('int64')\n",
    "df_train['sex=Male']=df_train['sex=Male'].astype('int64')\n",
    "df_train['age_cat=25 - 45']=df_train['age_cat=25 - 45'].astype('int64')\n",
    "df_train['age_cat=Greater than 45']=df_train['age_cat=Greater than 45'].astype('int64')\n",
    "df_train['age_cat=Less than 25']=df_train['age_cat=Less than 25'].astype('int64')\n",
    "#df_train['c_charge_degree=F']=df_train['c_charge_degree=F'].astype('int64')\n",
    "#df_train['c_charge_degree=M']=df_train['c_charge_degree=M'].astype('int64')\n",
    "df_train['two_year_recid']=df_train['two_year_recid'].astype('int64')\n"
   ]
  },
  {
   "cell_type": "code",
   "execution_count": 71,
   "metadata": {},
   "outputs": [],
   "source": [
    "#converting from float to int\n",
    "#Test\n",
    "\n",
    "df_test['age']=df_test['age'].astype('int64')\n",
    "df_test['race']=df_test[ 'race'].astype('int64')\n",
    "df_test['juv_fel_count']=df_test['juv_fel_count'].astype('int64')\n",
    "df_test['decile_score']=df_test['decile_score'].astype('int64')\n",
    "df_test['decile_score_binary']=df_test['decile_score_binary'].astype('int64')\n",
    "df_test['juv_misd_count']=df_test['juv_misd_count'].astype('int64')\n",
    "df_test['juv_other_count']=df_test['juv_other_count'].astype('int64')\n",
    "df_test['priors_count']=df_test['priors_count'].astype('int64')\n",
    "df_test['sex=Female']=df_test['sex=Female'].astype('int64')\n",
    "df_test['sex=Male']=df_test['sex=Male'].astype('int64')\n",
    "df_test['age_cat=25 - 45']=df_test['age_cat=25 - 45'].astype('int64')\n",
    "df_test['age_cat=Greater than 45']=df_test['age_cat=Greater than 45'].astype('int64')\n",
    "df_test['age_cat=Less than 25']=df_test['age_cat=Less than 25'].astype('int64')\n",
    "#df_test['c_charge_degree=F']=df_test['c_charge_degree=F'].astype('int64')\n",
    "#df_test['c_charge_degree=M']=df_test['c_charge_degree=M'].astype('int64')\n",
    "df_test['two_year_recid']=df_test['two_year_recid'].astype('int64')"
   ]
  },
  {
   "cell_type": "code",
   "execution_count": 72,
   "metadata": {
    "scrolled": true
   },
   "outputs": [],
   "source": [
    "#Train\n",
    "xTrain=df_train.drop(['decile_score_binary', 'decile_score', 'two_year_recid'], axis=1)\n",
    "yTrain=df_train['decile_score_binary']\n",
    "\n",
    "#Test\n",
    "xTest=df_test.drop(['decile_score_binary', 'decile_score', 'two_year_recid'], axis=1)\n",
    "yTest=df_test['decile_score_binary']"
   ]
  },
  {
   "cell_type": "code",
   "execution_count": 73,
   "metadata": {},
   "outputs": [
    {
     "name": "stderr",
     "output_type": "stream",
     "text": [
      "C:\\Users\\arupatil\\Anaconda3\\envs\\aif360\\lib\\site-packages\\sklearn\\linear_model\\logistic.py:433: FutureWarning: Default solver will be changed to 'lbfgs' in 0.22. Specify a solver to silence this warning.\n",
      "  FutureWarning)\n"
     ]
    },
    {
     "data": {
      "text/plain": [
       "LogisticRegression(C=1.0, class_weight=None, dual=False, fit_intercept=True,\n",
       "          intercept_scaling=1, max_iter=100, multi_class='warn',\n",
       "          n_jobs=None, penalty='l2', random_state=None, solver='warn',\n",
       "          tol=0.0001, verbose=0, warm_start=False)"
      ]
     },
     "execution_count": 73,
     "metadata": {},
     "output_type": "execute_result"
    }
   ],
   "source": [
    "#model\n",
    "classifier=LogisticRegression()\n",
    "classifier.fit(xTrain, yTrain)"
   ]
  },
  {
   "cell_type": "code",
   "execution_count": 74,
   "metadata": {},
   "outputs": [],
   "source": [
    "#predict\n",
    "yPred=classifier.predict(xTest)"
   ]
  },
  {
   "cell_type": "code",
   "execution_count": 75,
   "metadata": {},
   "outputs": [],
   "source": [
    "Final=df_test.copy() #Storing test to a new dataset"
   ]
  },
  {
   "cell_type": "code",
   "execution_count": 76,
   "metadata": {},
   "outputs": [],
   "source": [
    "Final['true_risk'] = Final['two_year_recid'] #ground truth"
   ]
  },
  {
   "cell_type": "code",
   "execution_count": 77,
   "metadata": {},
   "outputs": [],
   "source": [
    "Final['pred_risk']=yPred #predicted decile score binary #appending the predicted labels to the final dataset"
   ]
  },
  {
   "cell_type": "code",
   "execution_count": 78,
   "metadata": {},
   "outputs": [
    {
     "data": {
      "text/html": [
       "<div>\n",
       "<style scoped>\n",
       "    .dataframe tbody tr th:only-of-type {\n",
       "        vertical-align: middle;\n",
       "    }\n",
       "\n",
       "    .dataframe tbody tr th {\n",
       "        vertical-align: top;\n",
       "    }\n",
       "\n",
       "    .dataframe thead th {\n",
       "        text-align: right;\n",
       "    }\n",
       "</style>\n",
       "<table border=\"1\" class=\"dataframe\">\n",
       "  <thead>\n",
       "    <tr style=\"text-align: right;\">\n",
       "      <th></th>\n",
       "      <th>age</th>\n",
       "      <th>race</th>\n",
       "      <th>juv_fel_count</th>\n",
       "      <th>decile_score</th>\n",
       "      <th>juv_misd_count</th>\n",
       "      <th>juv_other_count</th>\n",
       "      <th>priors_count</th>\n",
       "      <th>two_year_recid</th>\n",
       "      <th>sex=Female</th>\n",
       "      <th>sex=Male</th>\n",
       "      <th>age_cat=25 - 45</th>\n",
       "      <th>age_cat=Greater than 45</th>\n",
       "      <th>age_cat=Less than 25</th>\n",
       "      <th>decile_score_binary</th>\n",
       "      <th>true_risk</th>\n",
       "      <th>pred_risk</th>\n",
       "    </tr>\n",
       "  </thead>\n",
       "  <tbody>\n",
       "    <tr>\n",
       "      <th>7997</th>\n",
       "      <td>0</td>\n",
       "      <td>0</td>\n",
       "      <td>0</td>\n",
       "      <td>0</td>\n",
       "      <td>0</td>\n",
       "      <td>0</td>\n",
       "      <td>0</td>\n",
       "      <td>1</td>\n",
       "      <td>0</td>\n",
       "      <td>1</td>\n",
       "      <td>0</td>\n",
       "      <td>1</td>\n",
       "      <td>0</td>\n",
       "      <td>1</td>\n",
       "      <td>1</td>\n",
       "      <td>0</td>\n",
       "    </tr>\n",
       "    <tr>\n",
       "      <th>8038</th>\n",
       "      <td>0</td>\n",
       "      <td>0</td>\n",
       "      <td>0</td>\n",
       "      <td>0</td>\n",
       "      <td>0</td>\n",
       "      <td>0</td>\n",
       "      <td>0</td>\n",
       "      <td>0</td>\n",
       "      <td>1</td>\n",
       "      <td>0</td>\n",
       "      <td>0</td>\n",
       "      <td>1</td>\n",
       "      <td>0</td>\n",
       "      <td>0</td>\n",
       "      <td>0</td>\n",
       "      <td>0</td>\n",
       "    </tr>\n",
       "    <tr>\n",
       "      <th>8634</th>\n",
       "      <td>0</td>\n",
       "      <td>0</td>\n",
       "      <td>0</td>\n",
       "      <td>0</td>\n",
       "      <td>0</td>\n",
       "      <td>0</td>\n",
       "      <td>0</td>\n",
       "      <td>0</td>\n",
       "      <td>0</td>\n",
       "      <td>1</td>\n",
       "      <td>1</td>\n",
       "      <td>0</td>\n",
       "      <td>0</td>\n",
       "      <td>0</td>\n",
       "      <td>0</td>\n",
       "      <td>0</td>\n",
       "    </tr>\n",
       "    <tr>\n",
       "      <th>8189</th>\n",
       "      <td>0</td>\n",
       "      <td>1</td>\n",
       "      <td>0</td>\n",
       "      <td>0</td>\n",
       "      <td>0</td>\n",
       "      <td>0</td>\n",
       "      <td>0</td>\n",
       "      <td>0</td>\n",
       "      <td>0</td>\n",
       "      <td>1</td>\n",
       "      <td>0</td>\n",
       "      <td>1</td>\n",
       "      <td>0</td>\n",
       "      <td>0</td>\n",
       "      <td>0</td>\n",
       "      <td>0</td>\n",
       "    </tr>\n",
       "    <tr>\n",
       "      <th>3250</th>\n",
       "      <td>0</td>\n",
       "      <td>1</td>\n",
       "      <td>0</td>\n",
       "      <td>0</td>\n",
       "      <td>0</td>\n",
       "      <td>0</td>\n",
       "      <td>0</td>\n",
       "      <td>0</td>\n",
       "      <td>0</td>\n",
       "      <td>1</td>\n",
       "      <td>0</td>\n",
       "      <td>1</td>\n",
       "      <td>0</td>\n",
       "      <td>0</td>\n",
       "      <td>0</td>\n",
       "      <td>0</td>\n",
       "    </tr>\n",
       "  </tbody>\n",
       "</table>\n",
       "</div>"
      ],
      "text/plain": [
       "      age  race  juv_fel_count  decile_score  juv_misd_count  juv_other_count  \\\n",
       "7997    0     0              0             0               0                0   \n",
       "8038    0     0              0             0               0                0   \n",
       "8634    0     0              0             0               0                0   \n",
       "8189    0     1              0             0               0                0   \n",
       "3250    0     1              0             0               0                0   \n",
       "\n",
       "      priors_count  two_year_recid  sex=Female  sex=Male  age_cat=25 - 45  \\\n",
       "7997             0               1           0         1                0   \n",
       "8038             0               0           1         0                0   \n",
       "8634             0               0           0         1                1   \n",
       "8189             0               0           0         1                0   \n",
       "3250             0               0           0         1                0   \n",
       "\n",
       "      age_cat=Greater than 45  age_cat=Less than 25  decile_score_binary  \\\n",
       "7997                        1                     0                    1   \n",
       "8038                        1                     0                    0   \n",
       "8634                        0                     0                    0   \n",
       "8189                        1                     0                    0   \n",
       "3250                        1                     0                    0   \n",
       "\n",
       "      true_risk  pred_risk  \n",
       "7997          1          0  \n",
       "8038          0          0  \n",
       "8634          0          0  \n",
       "8189          0          0  \n",
       "3250          0          0  "
      ]
     },
     "execution_count": 78,
     "metadata": {},
     "output_type": "execute_result"
    }
   ],
   "source": [
    "Final.head()"
   ]
  },
  {
   "cell_type": "markdown",
   "metadata": {},
   "source": [
    "### Plots"
   ]
  },
  {
   "cell_type": "code",
   "execution_count": 79,
   "metadata": {},
   "outputs": [],
   "source": [
    "def plot(race_ind = 1):\n",
    "    a=Final[Final['race'] == race_ind] #subsetting{ race=1 is Caucasian }\n",
    "    print(a.shape)\n",
    "    a1=a['pred_risk'].value_counts().reset_index().rename(columns={'index':'Pred_Risk', 'pred_risk':'Number_of_Defendants'}).sort_values(by=['Pred_Risk'])['Number_of_Defendants'].values\n",
    "    a2=a['true_risk'].value_counts().reset_index().rename(columns={'index':'True_Risk', 'true_risk':'Number_of_Defendants'}).sort_values(by=['True_Risk'])['Number_of_Defendants'].values\n",
    "    print(a1)\n",
    "    print(a2)\n",
    "    \n",
    "    ind = np.arange(len(a1))\n",
    "    width = 0.35\n",
    "    \n",
    "    fig, ax = plt.subplots()\n",
    "    ax1 = ax.bar(ind - width/2, a1, width, color='Blue', label='Predicted Risk')\n",
    "    ax2 = ax.bar(ind + width/2, a2, width, color='Red', label='Actual Risk')\n",
    "    \n",
    "    ax.set_ylabel('# of Defendants', fontsize=15)\n",
    "    ax.set_xlabel('Decile Score', fontsize=15)\n",
    "    if race_ind == 1:\n",
    "        ax.set_title(\"Distribution of Risk Score for Caucasians\", fontsize=15)\n",
    "    if race_ind == 0:\n",
    "        ax.set_title(\"Distribution of Risk Score for Non-Caucasians\", fontsize=15)\n",
    "    ax.set_xticks(ind)\n",
    "    ax.set_xticklabels(('Low Risk', 'High Risk'))\n",
    "    ax.legend()\n",
    "    \n",
    "    plt.show()"
   ]
  },
  {
   "cell_type": "code",
   "execution_count": 80,
   "metadata": {},
   "outputs": [
    {
     "name": "stdout",
     "output_type": "stream",
     "text": [
      "(632, 16)\n",
      "[632]\n",
      "[403 229]\n"
     ]
    },
    {
     "name": "stderr",
     "output_type": "stream",
     "text": [
      "C:\\Users\\arupatil\\Anaconda3\\envs\\aif360\\lib\\site-packages\\matplotlib\\figure.py:445: UserWarning: Matplotlib is currently using agg, which is a non-GUI backend, so cannot show the figure.\n",
      "  % get_backend())\n"
     ]
    },
    {
     "data": {
      "image/png": "[encoded data removed]",
      "text/plain": [
       "<Figure size 432x288 with 1 Axes>"
      ]
     },
     "metadata": {
      "needs_background": "light"
     },
     "output_type": "display_data"
    }
   ],
   "source": [
    "plot(1)"
   ]
  },
  {
   "cell_type": "code",
   "execution_count": 81,
   "metadata": {},
   "outputs": [
    {
     "name": "stdout",
     "output_type": "stream",
     "text": [
      "(1220, 16)\n",
      "[1219    1]\n",
      "[628 592]\n"
     ]
    },
    {
     "name": "stderr",
     "output_type": "stream",
     "text": [
      "C:\\Users\\arupatil\\Anaconda3\\envs\\aif360\\lib\\site-packages\\matplotlib\\figure.py:445: UserWarning: Matplotlib is currently using agg, which is a non-GUI backend, so cannot show the figure.\n",
      "  % get_backend())\n"
     ]
    },
    {
     "data": {
      "image/png": "[encoded data removed]",
      "text/plain": [
       "<Figure size 432x288 with 1 Axes>"
      ]
     },
     "metadata": {
      "needs_background": "light"
     },
     "output_type": "display_data"
    }
   ],
   "source": [
    "plot(0)"
   ]
  },
  {
   "cell_type": "markdown",
   "metadata": {},
   "source": [
    "### Accuracy"
   ]
  },
  {
   "cell_type": "code",
   "execution_count": 82,
   "metadata": {},
   "outputs": [
    {
     "data": {
      "text/plain": [
       "0.5572354211663066"
      ]
     },
     "execution_count": 82,
     "metadata": {},
     "output_type": "execute_result"
    }
   ],
   "source": [
    "# Prediction Accuracy\n",
    "\n",
    "accuracy_score(Final['true_risk'], Final['pred_risk'])"
   ]
  },
  {
   "cell_type": "code",
   "execution_count": 83,
   "metadata": {},
   "outputs": [
    {
     "data": {
      "text/plain": [
       "0.6376582278481012"
      ]
     },
     "execution_count": 83,
     "metadata": {},
     "output_type": "execute_result"
    }
   ],
   "source": [
    "# Prediction Accuracy for Caucasians\n",
    "c1=Final[Final['race']==1]\n",
    "\n",
    "accuracy_score(c1['true_risk'], c1['pred_risk'])"
   ]
  },
  {
   "cell_type": "code",
   "execution_count": 84,
   "metadata": {},
   "outputs": [
    {
     "data": {
      "text/plain": [
       "0.5155737704918033"
      ]
     },
     "execution_count": 84,
     "metadata": {},
     "output_type": "execute_result"
    }
   ],
   "source": [
    "# Prediction Accuracy for Non-Caucasians\n",
    "c2=Final[Final['race']==0]\n",
    "\n",
    "accuracy_score(c2['true_risk'], c2['pred_risk'])"
   ]
  },
  {
   "cell_type": "code",
   "execution_count": null,
   "metadata": {},
   "outputs": [],
   "source": []
  },
  {
   "cell_type": "code",
   "execution_count": 85,
   "metadata": {},
   "outputs": [
    {
     "data": {
      "text/plain": [
       "0.7397408207343412"
      ]
     },
     "execution_count": 85,
     "metadata": {},
     "output_type": "execute_result"
    }
   ],
   "source": [
    "classifier.score(xTest,yTest) #model accuracy"
   ]
  },
  {
   "cell_type": "code",
   "execution_count": 86,
   "metadata": {},
   "outputs": [
    {
     "data": {
      "text/plain": [
       "0.8544303797468354"
      ]
     },
     "execution_count": 86,
     "metadata": {},
     "output_type": "execute_result"
    }
   ],
   "source": [
    "classifier.score(xTest[xTest[\"race\"] == 1],yTest[xTest[\"race\"] == 1]) #Caucasians"
   ]
  },
  {
   "cell_type": "code",
   "execution_count": 87,
   "metadata": {},
   "outputs": [
    {
     "data": {
      "text/plain": [
       "0.680327868852459"
      ]
     },
     "execution_count": 87,
     "metadata": {},
     "output_type": "execute_result"
    }
   ],
   "source": [
    "classifier.score(xTest[xTest[\"race\"] == 0],yTest[xTest[\"race\"] == 0])"
   ]
  },
  {
   "cell_type": "markdown",
   "metadata": {},
   "source": [
    "### ----------------Model 2: Logistic Regression after employing Disparate Impact Remover---------------"
   ]
  },
  {
   "cell_type": "code",
   "execution_count": 88,
   "metadata": {},
   "outputs": [
    {
     "data": {
      "text/markdown": [
       "#### Training Dataset shape"
      ],
      "text/plain": [
       "<IPython.core.display.Markdown object>"
      ]
     },
     "metadata": {},
     "output_type": "display_data"
    },
    {
     "name": "stdout",
     "output_type": "stream",
     "text": [
      "(4320, 13)\n"
     ]
    }
   ],
   "source": [
    "display(Markdown(\"#### Training Dataset shape\"))\n",
    "print(train.features.shape)"
   ]
  },
  {
   "cell_type": "code",
   "execution_count": 89,
   "metadata": {},
   "outputs": [
    {
     "data": {
      "text/markdown": [
       "#### Protected attribute names"
      ],
      "text/plain": [
       "<IPython.core.display.Markdown object>"
      ]
     },
     "metadata": {},
     "output_type": "display_data"
    },
    {
     "name": "stdout",
     "output_type": "stream",
     "text": [
      "['race']\n"
     ]
    }
   ],
   "source": [
    "display(Markdown(\"#### Protected attribute names\"))\n",
    "print(train.protected_attribute_names)"
   ]
  },
  {
   "cell_type": "code",
   "execution_count": 90,
   "metadata": {},
   "outputs": [
    {
     "data": {
      "text/markdown": [
       "#### Label names"
      ],
      "text/plain": [
       "<IPython.core.display.Markdown object>"
      ]
     },
     "metadata": {},
     "output_type": "display_data"
    },
    {
     "name": "stdout",
     "output_type": "stream",
     "text": [
      "['decile_score_binary']\n"
     ]
    }
   ],
   "source": [
    "display(Markdown(\"#### Label names\"))\n",
    "print(train.label_names)"
   ]
  },
  {
   "cell_type": "code",
   "execution_count": 91,
   "metadata": {
    "scrolled": true
   },
   "outputs": [
    {
     "data": {
      "text/markdown": [
       "#### Dataset feature names"
      ],
      "text/plain": [
       "<IPython.core.display.Markdown object>"
      ]
     },
     "metadata": {},
     "output_type": "display_data"
    },
    {
     "name": "stdout",
     "output_type": "stream",
     "text": [
      "['age', 'race', 'juv_fel_count', 'decile_score', 'juv_misd_count', 'juv_other_count', 'priors_count', 'two_year_recid', 'sex=Female', 'sex=Male', 'age_cat=25 - 45', 'age_cat=Greater than 45', 'age_cat=Less than 25']\n"
     ]
    }
   ],
   "source": [
    "display(Markdown(\"#### Dataset feature names\"))\n",
    "print(train.feature_names)"
   ]
  },
  {
   "cell_type": "code",
   "execution_count": 92,
   "metadata": {},
   "outputs": [],
   "source": [
    "#applying Disparate Impact Remover\n",
    "\n",
    "di = DisparateImpactRemover(repair_level=1.0)\n",
    "\n",
    "train_repd = di.fit_transform(train)\n",
    "test_repd = di.fit_transform(test)"
   ]
  },
  {
   "cell_type": "code",
   "execution_count": 93,
   "metadata": {},
   "outputs": [],
   "source": [
    "#Convert to Pandas after applying Disparate Impact Remover\n",
    "\n",
    "#Train\n",
    "data1=train_repd.convert_to_dataframe()\n",
    "train_di=pd.DataFrame(data1[0])\n",
    "\n",
    "\n",
    "#Test\n",
    "data2=test_repd.convert_to_dataframe()\n",
    "test_di=pd.DataFrame(data2[0])"
   ]
  },
  {
   "cell_type": "code",
   "execution_count": 94,
   "metadata": {},
   "outputs": [
    {
     "data": {
      "text/plain": [
       "(4320, 14)"
      ]
     },
     "metadata": {},
     "output_type": "display_data"
    },
    {
     "data": {
      "text/plain": [
       "(1852, 14)"
      ]
     },
     "metadata": {},
     "output_type": "display_data"
    }
   ],
   "source": [
    "display(train_di.shape)\n",
    "display(test_di.shape)"
   ]
  },
  {
   "cell_type": "code",
   "execution_count": 95,
   "metadata": {},
   "outputs": [],
   "source": [
    "#converting from float to int\n",
    "#Train\n",
    "\n",
    "train_di['age']=train_di['age'].astype('int64')\n",
    "train_di['race']=train_di[ 'race'].astype('int64')\n",
    "train_di['juv_fel_count']=train_di['juv_fel_count'].astype('int64')\n",
    "train_di['decile_score']=train_di['decile_score'].astype('int64')\n",
    "train_di['decile_score_binary']=train_di['decile_score_binary'].astype('int64')\n",
    "train_di['juv_misd_count']=train_di['juv_misd_count'].astype('int64')\n",
    "train_di['juv_other_count']=train_di['juv_other_count'].astype('int64')\n",
    "train_di['priors_count']=train_di['priors_count'].astype('int64')\n",
    "train_di['sex=Female']=train_di['sex=Female'].astype('int64')\n",
    "train_di['sex=Male']=train_di['sex=Male'].astype('int64')\n",
    "train_di['age_cat=25 - 45']=train_di['age_cat=25 - 45'].astype('int64')\n",
    "train_di['age_cat=Greater than 45']=train_di['age_cat=Greater than 45'].astype('int64')\n",
    "train_di['age_cat=Less than 25']=train_di['age_cat=Less than 25'].astype('int64')\n",
    "#train_di['c_charge_degree=F']=train_di['c_charge_degree=F'].astype('int64')\n",
    "#train_di['c_charge_degree=M']=train_di['c_charge_degree=M'].astype('int64')\n",
    "train_di['two_year_recid']=train_di['two_year_recid'].astype('int64')"
   ]
  },
  {
   "cell_type": "code",
   "execution_count": 96,
   "metadata": {},
   "outputs": [],
   "source": [
    "#Test\n",
    "test_di['age']=test_di['age'].astype('int64')\n",
    "test_di['race']=test_di[ 'race'].astype('int64')\n",
    "test_di['juv_fel_count']=test_di['juv_fel_count'].astype('int64')\n",
    "test_di['decile_score']=test_di['decile_score'].astype('int64')\n",
    "test_di['decile_score_binary']=test_di['decile_score_binary'].astype('int64')\n",
    "test_di['juv_misd_count']=test_di['juv_misd_count'].astype('int64')\n",
    "test_di['juv_other_count']=test_di['juv_other_count'].astype('int64')\n",
    "test_di['priors_count']=test_di['priors_count'].astype('int64')\n",
    "test_di['sex=Female']=test_di['sex=Female'].astype('int64')\n",
    "test_di['sex=Male']=test_di['sex=Male'].astype('int64')\n",
    "test_di['age_cat=25 - 45']=test_di['age_cat=25 - 45'].astype('int64')\n",
    "test_di['age_cat=Greater than 45']=test_di['age_cat=Greater than 45'].astype('int64')\n",
    "test_di['age_cat=Less than 25']=test_di['age_cat=Less than 25'].astype('int64')\n",
    "#test_di['c_charge_degree=F']=test_di['c_charge_degree=F'].astype('int64')\n",
    "#test_di['c_charge_degree=M']=test_di['c_charge_degree=M'].astype('int64')\n",
    "test_di['two_year_recid']=test_di['two_year_recid'].astype('int64')"
   ]
  },
  {
   "cell_type": "code",
   "execution_count": 97,
   "metadata": {},
   "outputs": [],
   "source": [
    "#Creating features and labels\n",
    "\n",
    "#Train\n",
    "xTrain_di=train_di.drop(['decile_score_binary', 'decile_score', 'two_year_recid'], axis=1)\n",
    "yTrain_di=train_di['decile_score_binary']\n",
    "\n",
    "#Test\n",
    "xTest_di=test_di.drop(['decile_score_binary', 'decile_score', 'two_year_recid'], axis=1)\n",
    "yTest_di=test_di['decile_score_binary']\n"
   ]
  },
  {
   "cell_type": "code",
   "execution_count": 98,
   "metadata": {},
   "outputs": [
    {
     "name": "stderr",
     "output_type": "stream",
     "text": [
      "C:\\Users\\arupatil\\Anaconda3\\envs\\aif360\\lib\\site-packages\\sklearn\\linear_model\\logistic.py:433: FutureWarning: Default solver will be changed to 'lbfgs' in 0.22. Specify a solver to silence this warning.\n",
      "  FutureWarning)\n"
     ]
    },
    {
     "data": {
      "text/plain": [
       "LogisticRegression(C=1.0, class_weight=None, dual=False, fit_intercept=True,\n",
       "          intercept_scaling=1, max_iter=100, multi_class='warn',\n",
       "          n_jobs=None, penalty='l2', random_state=None, solver='warn',\n",
       "          tol=0.0001, verbose=0, warm_start=False)"
      ]
     },
     "execution_count": 98,
     "metadata": {},
     "output_type": "execute_result"
    }
   ],
   "source": [
    "#model\n",
    "lmod=LogisticRegression()\n",
    "lmod.fit(xTrain_di, yTrain_di)"
   ]
  },
  {
   "cell_type": "code",
   "execution_count": 99,
   "metadata": {},
   "outputs": [],
   "source": [
    "#predict\n",
    "yPred_di=classifier.predict(xTest_di)"
   ]
  },
  {
   "cell_type": "code",
   "execution_count": 100,
   "metadata": {},
   "outputs": [],
   "source": [
    "Final_di=test_di.copy() #Storing xtest to a new dataset"
   ]
  },
  {
   "cell_type": "code",
   "execution_count": 101,
   "metadata": {},
   "outputs": [],
   "source": [
    "Final_di['true_risk']= Final_di['two_year_recid'] #true risk"
   ]
  },
  {
   "cell_type": "code",
   "execution_count": 102,
   "metadata": {},
   "outputs": [],
   "source": [
    "Final_di['pred_risk']=yPred_di #appending the predicted labels to the final dataset"
   ]
  },
  {
   "cell_type": "code",
   "execution_count": 103,
   "metadata": {},
   "outputs": [
    {
     "data": {
      "text/html": [
       "<div>\n",
       "<style scoped>\n",
       "    .dataframe tbody tr th:only-of-type {\n",
       "        vertical-align: middle;\n",
       "    }\n",
       "\n",
       "    .dataframe tbody tr th {\n",
       "        vertical-align: top;\n",
       "    }\n",
       "\n",
       "    .dataframe thead th {\n",
       "        text-align: right;\n",
       "    }\n",
       "</style>\n",
       "<table border=\"1\" class=\"dataframe\">\n",
       "  <thead>\n",
       "    <tr style=\"text-align: right;\">\n",
       "      <th></th>\n",
       "      <th>age</th>\n",
       "      <th>race</th>\n",
       "      <th>juv_fel_count</th>\n",
       "      <th>decile_score</th>\n",
       "      <th>juv_misd_count</th>\n",
       "      <th>juv_other_count</th>\n",
       "      <th>priors_count</th>\n",
       "      <th>two_year_recid</th>\n",
       "      <th>sex=Female</th>\n",
       "      <th>sex=Male</th>\n",
       "      <th>age_cat=25 - 45</th>\n",
       "      <th>age_cat=Greater than 45</th>\n",
       "      <th>age_cat=Less than 25</th>\n",
       "      <th>decile_score_binary</th>\n",
       "      <th>true_risk</th>\n",
       "      <th>pred_risk</th>\n",
       "    </tr>\n",
       "  </thead>\n",
       "  <tbody>\n",
       "    <tr>\n",
       "      <th>7997</th>\n",
       "      <td>0</td>\n",
       "      <td>0</td>\n",
       "      <td>0</td>\n",
       "      <td>0</td>\n",
       "      <td>0</td>\n",
       "      <td>0</td>\n",
       "      <td>0</td>\n",
       "      <td>1</td>\n",
       "      <td>0</td>\n",
       "      <td>1</td>\n",
       "      <td>0</td>\n",
       "      <td>1</td>\n",
       "      <td>0</td>\n",
       "      <td>1</td>\n",
       "      <td>1</td>\n",
       "      <td>0</td>\n",
       "    </tr>\n",
       "    <tr>\n",
       "      <th>8038</th>\n",
       "      <td>0</td>\n",
       "      <td>0</td>\n",
       "      <td>0</td>\n",
       "      <td>0</td>\n",
       "      <td>0</td>\n",
       "      <td>0</td>\n",
       "      <td>0</td>\n",
       "      <td>0</td>\n",
       "      <td>1</td>\n",
       "      <td>0</td>\n",
       "      <td>0</td>\n",
       "      <td>1</td>\n",
       "      <td>0</td>\n",
       "      <td>0</td>\n",
       "      <td>0</td>\n",
       "      <td>0</td>\n",
       "    </tr>\n",
       "    <tr>\n",
       "      <th>8634</th>\n",
       "      <td>0</td>\n",
       "      <td>0</td>\n",
       "      <td>0</td>\n",
       "      <td>0</td>\n",
       "      <td>0</td>\n",
       "      <td>0</td>\n",
       "      <td>0</td>\n",
       "      <td>0</td>\n",
       "      <td>0</td>\n",
       "      <td>1</td>\n",
       "      <td>1</td>\n",
       "      <td>0</td>\n",
       "      <td>0</td>\n",
       "      <td>0</td>\n",
       "      <td>0</td>\n",
       "      <td>0</td>\n",
       "    </tr>\n",
       "    <tr>\n",
       "      <th>8189</th>\n",
       "      <td>0</td>\n",
       "      <td>1</td>\n",
       "      <td>0</td>\n",
       "      <td>0</td>\n",
       "      <td>0</td>\n",
       "      <td>0</td>\n",
       "      <td>0</td>\n",
       "      <td>0</td>\n",
       "      <td>0</td>\n",
       "      <td>1</td>\n",
       "      <td>0</td>\n",
       "      <td>1</td>\n",
       "      <td>0</td>\n",
       "      <td>0</td>\n",
       "      <td>0</td>\n",
       "      <td>0</td>\n",
       "    </tr>\n",
       "    <tr>\n",
       "      <th>3250</th>\n",
       "      <td>0</td>\n",
       "      <td>1</td>\n",
       "      <td>0</td>\n",
       "      <td>0</td>\n",
       "      <td>0</td>\n",
       "      <td>0</td>\n",
       "      <td>0</td>\n",
       "      <td>0</td>\n",
       "      <td>0</td>\n",
       "      <td>1</td>\n",
       "      <td>0</td>\n",
       "      <td>1</td>\n",
       "      <td>0</td>\n",
       "      <td>0</td>\n",
       "      <td>0</td>\n",
       "      <td>0</td>\n",
       "    </tr>\n",
       "  </tbody>\n",
       "</table>\n",
       "</div>"
      ],
      "text/plain": [
       "      age  race  juv_fel_count  decile_score  juv_misd_count  juv_other_count  \\\n",
       "7997    0     0              0             0               0                0   \n",
       "8038    0     0              0             0               0                0   \n",
       "8634    0     0              0             0               0                0   \n",
       "8189    0     1              0             0               0                0   \n",
       "3250    0     1              0             0               0                0   \n",
       "\n",
       "      priors_count  two_year_recid  sex=Female  sex=Male  age_cat=25 - 45  \\\n",
       "7997             0               1           0         1                0   \n",
       "8038             0               0           1         0                0   \n",
       "8634             0               0           0         1                1   \n",
       "8189             0               0           0         1                0   \n",
       "3250             0               0           0         1                0   \n",
       "\n",
       "      age_cat=Greater than 45  age_cat=Less than 25  decile_score_binary  \\\n",
       "7997                        1                     0                    1   \n",
       "8038                        1                     0                    0   \n",
       "8634                        0                     0                    0   \n",
       "8189                        1                     0                    0   \n",
       "3250                        1                     0                    0   \n",
       "\n",
       "      true_risk  pred_risk  \n",
       "7997          1          0  \n",
       "8038          0          0  \n",
       "8634          0          0  \n",
       "8189          0          0  \n",
       "3250          0          0  "
      ]
     },
     "execution_count": 103,
     "metadata": {},
     "output_type": "execute_result"
    }
   ],
   "source": [
    "Final_di.head()"
   ]
  },
  {
   "cell_type": "markdown",
   "metadata": {},
   "source": [
    "### Plots"
   ]
  },
  {
   "cell_type": "code",
   "execution_count": 104,
   "metadata": {},
   "outputs": [],
   "source": [
    "def plot(race_ind = 1):\n",
    "    a=Final_di[Final_di['race'] == race_ind] #subsetting{ race=1 is Caucasian }\n",
    "    print(a.shape)\n",
    "    a1=a['pred_risk'].value_counts().reset_index().rename(columns={'index':'Pred_Risk', 'pred_risk':'Number_of_Defendants'}).sort_values(by=['Pred_Risk'])['Number_of_Defendants'].values\n",
    "    a2=a['true_risk'].value_counts().reset_index().rename(columns={'index':'True_Risk', 'true_risk':'Number_of_Defendants'}).sort_values(by=['True_Risk'])['Number_of_Defendants'].values\n",
    "    print(a1)\n",
    "    print(a2)\n",
    "    \n",
    "    ind = np.arange(len(a1))\n",
    "    width = 0.35\n",
    "    \n",
    "    fig, ax = plt.subplots()\n",
    "    ax1 = ax.bar(ind - width/2, a1, width, color='Blue', label='Predicted Risk')\n",
    "    ax2 = ax.bar(ind + width/2, a2, width, color='Red', label='Actual Risk')\n",
    "    \n",
    "    ax.set_ylabel('# of Defendants', fontsize=15)\n",
    "    ax.set_xlabel('Decile Score', fontsize=15)\n",
    "    if race_ind == 1:\n",
    "        ax.set_title(\"Distribution of Risk Score for Caucasians\", fontsize=15)\n",
    "    if race_ind == 0:\n",
    "        ax.set_title(\"Distribution of Risk Score for Non-Caucasians\", fontsize=15)\n",
    "    ax.set_xticks(ind)\n",
    "    ax.set_xticklabels(('Low Risk', 'High Risk'))\n",
    "    ax.legend()\n",
    "    \n",
    "    plt.show()"
   ]
  },
  {
   "cell_type": "code",
   "execution_count": 105,
   "metadata": {},
   "outputs": [
    {
     "name": "stdout",
     "output_type": "stream",
     "text": [
      "(632, 16)\n",
      "[632]\n",
      "[403 229]\n"
     ]
    },
    {
     "name": "stderr",
     "output_type": "stream",
     "text": [
      "C:\\Users\\arupatil\\Anaconda3\\envs\\aif360\\lib\\site-packages\\matplotlib\\figure.py:445: UserWarning: Matplotlib is currently using agg, which is a non-GUI backend, so cannot show the figure.\n",
      "  % get_backend())\n"
     ]
    },
    {
     "data": {
      "image/png": "[encoded data removed]",
      "text/plain": [
       "<Figure size 432x288 with 1 Axes>"
      ]
     },
     "metadata": {
      "needs_background": "light"
     },
     "output_type": "display_data"
    }
   ],
   "source": [
    "plot(1)"
   ]
  },
  {
   "cell_type": "code",
   "execution_count": 106,
   "metadata": {},
   "outputs": [
    {
     "name": "stdout",
     "output_type": "stream",
     "text": [
      "(1220, 16)\n",
      "[1220]\n",
      "[628 592]\n"
     ]
    },
    {
     "name": "stderr",
     "output_type": "stream",
     "text": [
      "C:\\Users\\arupatil\\Anaconda3\\envs\\aif360\\lib\\site-packages\\matplotlib\\figure.py:445: UserWarning: Matplotlib is currently using agg, which is a non-GUI backend, so cannot show the figure.\n",
      "  % get_backend())\n"
     ]
    },
    {
     "data": {
      "image/png": "[encoded data removed]",
      "text/plain": [
       "<Figure size 432x288 with 1 Axes>"
      ]
     },
     "metadata": {
      "needs_background": "light"
     },
     "output_type": "display_data"
    }
   ],
   "source": [
    "plot(0)"
   ]
  },
  {
   "cell_type": "markdown",
   "metadata": {},
   "source": [
    "### Accuracy"
   ]
  },
  {
   "cell_type": "code",
   "execution_count": 107,
   "metadata": {},
   "outputs": [
    {
     "data": {
      "text/plain": [
       "0.556695464362851"
      ]
     },
     "execution_count": 107,
     "metadata": {},
     "output_type": "execute_result"
    }
   ],
   "source": [
    "# Prediction Accuracy\n",
    "accuracy_score(Final_di['true_risk'], Final_di['pred_risk'])"
   ]
  },
  {
   "cell_type": "code",
   "execution_count": 108,
   "metadata": {},
   "outputs": [
    {
     "data": {
      "text/plain": [
       "0.6376582278481012"
      ]
     },
     "execution_count": 108,
     "metadata": {},
     "output_type": "execute_result"
    }
   ],
   "source": [
    "# Prediction Accuracy for Caucasians\n",
    "c1=Final_di[Final_di['race']==1]\n",
    "\n",
    "accuracy_score(c1['true_risk'], c1['pred_risk'])"
   ]
  },
  {
   "cell_type": "code",
   "execution_count": 109,
   "metadata": {},
   "outputs": [
    {
     "data": {
      "text/plain": [
       "0.5147540983606558"
      ]
     },
     "execution_count": 109,
     "metadata": {},
     "output_type": "execute_result"
    }
   ],
   "source": [
    "# Prediction Accuracy for Non-Caucasians\n",
    "c2=Final_di[Final_di['race']==0]\n",
    "\n",
    "accuracy_score(c2['true_risk'], c2['pred_risk'])"
   ]
  },
  {
   "cell_type": "code",
   "execution_count": 110,
   "metadata": {},
   "outputs": [
    {
     "data": {
      "text/plain": [
       "0.7392008639308856"
      ]
     },
     "execution_count": 110,
     "metadata": {},
     "output_type": "execute_result"
    }
   ],
   "source": [
    "lmod.score(xTest_di,yTest_di) #model accuracy"
   ]
  },
  {
   "cell_type": "code",
   "execution_count": 111,
   "metadata": {},
   "outputs": [
    {
     "data": {
      "text/plain": [
       "0.8544303797468354"
      ]
     },
     "execution_count": 111,
     "metadata": {},
     "output_type": "execute_result"
    }
   ],
   "source": [
    "lmod.score(xTest_di[xTest_di[\"race\"] == 1],yTest_di[xTest_di[\"race\"] == 1]) #Caucasians"
   ]
  },
  {
   "cell_type": "code",
   "execution_count": 112,
   "metadata": {},
   "outputs": [
    {
     "data": {
      "text/plain": [
       "0.6795081967213115"
      ]
     },
     "execution_count": 112,
     "metadata": {},
     "output_type": "execute_result"
    }
   ],
   "source": [
    "lmod.score(xTest_di[xTest_di[\"race\"] == 0],yTest_di[xTest_di[\"race\"] == 0])  # Non=Causacians"
   ]
  }
 ],
 "metadata": {
  "kernelspec": {
   "display_name": "Python 3",
   "language": "python",
   "name": "python3"
  },
  "language_info": {
   "codemirror_mode": {
    "name": "ipython",
    "version": 3
   },
   "file_extension": ".py",
   "mimetype": "text/x-python",
   "name": "python",
   "nbconvert_exporter": "python",
   "pygments_lexer": "ipython3",
   "version": "3.7.1"
  }
 },
 "nbformat": 4,
 "nbformat_minor": 2
}
